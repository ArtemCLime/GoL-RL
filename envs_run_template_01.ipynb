{
 "cells": [
  {
   "cell_type": "code",
   "execution_count": 1,
   "metadata": {
    "collapsed": true
   },
   "outputs": [],
   "source": [
    "import torch \n",
    "import numpy as np\n",
    "from envs import env"
   ]
  },
  {
   "cell_type": "code",
   "execution_count": 2,
   "metadata": {
    "collapsed": true
   },
   "outputs": [],
   "source": [
    "sandbox = env.Env(grid_size=(100,100))"
   ]
  },
  {
   "cell_type": "code",
   "execution_count": 3,
   "metadata": {
    "collapsed": true
   },
   "outputs": [],
   "source": [
    "def glider():\n",
    "    return np.array([[0, 0, 1],\n",
    "                     [1, 0, 1],\n",
    "                     [0, 1, 1]])\n",
    "\n",
    "def gosper_glider_gun():\n",
    "    gun = np.zeros(11 * 38).reshape(11, 38)\n",
    "    gun[5][1] = gun[5][2] = 1\n",
    "    gun[6][1] = gun[6][2] = 1\n",
    "\n",
    "    gun[3][13] = gun[3][14] = 1\n",
    "    gun[4][12] = gun[4][16] = 1\n",
    "    gun[5][11] = gun[5][17] = 1\n",
    "    gun[6][11] = gun[6][15] = gun[6][17] = gun[6][18] = 1\n",
    "    gun[7][11] = gun[7][17] = 1\n",
    "    gun[8][12] = gun[8][16] = 1\n",
    "    gun[9][13] = gun[9][14] = 1\n",
    "\n",
    "    gun[1][25] = 1\n",
    "    gun[2][23] = gun[2][25] = 1\n",
    "    gun[3][21] = gun[3][22] = 1\n",
    "    gun[4][21] = gun[4][22] = 1\n",
    "    gun[5][21] = gun[5][22] = 1\n",
    "    gun[6][23] = gun[6][25] = 1\n",
    "    gun[7][25] = 1\n",
    "\n",
    "    gun[3][35] = gun[3][36] = 1\n",
    "    gun[4][35] = gun[4][36] = 1\n",
    "    \n",
    "    return gun"
   ]
  },
  {
   "cell_type": "code",
   "execution_count": 4,
   "metadata": {},
   "outputs": [],
   "source": [
    "patterns = {\"glider\": glider(),\n",
    "            \"gosper_glider_gun\": gosper_glider_gun()}"
   ]
  },
  {
   "cell_type": "code",
   "execution_count": null,
   "metadata": {
    "collapsed": true
   },
   "outputs": [],
   "source": []
  },
  {
   "cell_type": "code",
   "execution_count": 5,
   "metadata": {},
   "outputs": [],
   "source": [
    "agents_perception_field = torch.tensor(((0,0,1),(1,0,1), (0,1,1)))\n",
    "agents_field_position_x = 0\n",
    "agents_field_position_y = 0"
   ]
  },
  {
   "cell_type": "code",
   "execution_count": 14,
   "metadata": {},
   "outputs": [],
   "source": [
    "env_state = sandbox.step(perception_field=agents_perception_field, \n",
    "                         field_position_x=agents_field_position_x, \n",
    "                         field_position_y=agents_field_position_y, n_steps=10)"
   ]
  },
  {
   "cell_type": "code",
   "execution_count": null,
   "metadata": {},
   "outputs": [],
   "source": []
  },
  {
   "cell_type": "code",
   "execution_count": 10,
   "metadata": {
    "collapsed": true
   },
   "outputs": [],
   "source": [
    "# sandbox.insert_block_into_grid(patterns['glider'], 0,0)\n",
    "# sandbox.insert_block_into_grid(patterns['gosper_glider_gun'], 0,0)"
   ]
  },
  {
   "cell_type": "code",
   "execution_count": 7,
   "metadata": {
    "collapsed": true
   },
   "outputs": [],
   "source": [
    "import matplotlib.pyplot as plt\n",
    "%matplotlib inline\n",
    "from pylab import rcParams\n",
    "rcParams['figure.figsize'] = 10, 20"
   ]
  },
  {
   "cell_type": "code",
   "execution_count": 16,
   "metadata": {},
   "outputs": [
    {
     "data": {
      "text/plain": [
       "<matplotlib.image.AxesImage at 0x1147f3f98>"
      ]
     },
     "execution_count": 16,
     "metadata": {},
     "output_type": "execute_result"
    },
    {
     "data": {
      "image/png": "[encoded data removed]",
      "text/plain": [
       "<Figure size 720x1440 with 1 Axes>"
      ]
     },
     "metadata": {},
     "output_type": "display_data"
    }
   ],
   "source": [
    "sandbox.grid_update(10)\n",
    "plt.imshow(sandbox.grid)"
   ]
  },
  {
   "cell_type": "code",
   "execution_count": null,
   "metadata": {
    "collapsed": true
   },
   "outputs": [],
   "source": []
  }
 ],
 "metadata": {
  "kernelspec": {
   "display_name": "Python 3",
   "language": "python",
   "name": "python3"
  },
  "language_info": {
   "codemirror_mode": {
    "name": "ipython",
    "version": 3
   },
   "file_extension": ".py",
   "mimetype": "text/x-python",
   "name": "python",
   "nbconvert_exporter": "python",
   "pygments_lexer": "ipython3",
   "version": "3.6.1"
  }
 },
 "nbformat": 4,
 "nbformat_minor": 2
}
